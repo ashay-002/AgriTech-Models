{
  "nbformat": 4,
  "nbformat_minor": 0,
  "metadata": {
    "colab": {
      "provenance": [],
      "gpuType": "T4"
    },
    "kernelspec": {
      "name": "python3",
      "display_name": "Python 3"
    },
    "language_info": {
      "name": "python"
    },
    "accelerator": "GPU"
  },
  "cells": [
    {
      "cell_type": "code",
      "execution_count": null,
      "metadata": {
        "id": "7YxWwdPGwl5B"
      },
      "outputs": [],
      "source": [
        "!cp '/content/drive/MyDrive/SeedGermination.v1i.yolov8.zip' '/content'"
      ]
    },
    {
      "cell_type": "code",
      "source": [
        "!unzip '/content/SeedGermination.v1i.yolov8.zip'"
      ],
      "metadata": {
        "id": "bW3igeH_xgHG"
      },
      "execution_count": null,
      "outputs": []
    },
    {
      "cell_type": "code",
      "source": [
        "pip install ultralytics"
      ],
      "metadata": {
        "id": "DHeCkIpPxttU"
      },
      "execution_count": null,
      "outputs": []
    },
    {
      "cell_type": "code",
      "source": [
        "from ultralytics import YOLO"
      ],
      "metadata": {
        "id": "cP1Gxd8Sxn9w"
      },
      "execution_count": null,
      "outputs": []
    },
    {
      "cell_type": "code",
      "source": [
        "model = YOLO('yolov8n.pt')\n",
        "\n",
        "results = model.train(data='data.yaml', epochs=20, imgsz=640)"
      ],
      "metadata": {
        "id": "luA_qHJs2d-H"
      },
      "execution_count": null,
      "outputs": []
    },
    {
      "cell_type": "code",
      "source": [
        "import shutil\n",
        "\n",
        "source_path = '/content/runs/detect/train3'\n",
        "destination_path = '/content/drive/MyDrive/project/Yolo'\n",
        "\n",
        "shutil.copytree(source_path, destination_path)\n"
      ],
      "metadata": {
        "colab": {
          "base_uri": "https://localhost:8080/",
          "height": 36
        },
        "id": "ra3TY574Hu7z",
        "outputId": "fe37dde8-e2dd-4d3b-cf3d-c278b0f0b27e"
      },
      "execution_count": null,
      "outputs": [
        {
          "output_type": "execute_result",
          "data": {
            "text/plain": [
              "'/content/drive/MyDrive/project/Yolo'"
            ],
            "application/vnd.google.colaboratory.intrinsic+json": {
              "type": "string"
            }
          },
          "metadata": {},
          "execution_count": 20
        }
      ]
    }
  ]
}